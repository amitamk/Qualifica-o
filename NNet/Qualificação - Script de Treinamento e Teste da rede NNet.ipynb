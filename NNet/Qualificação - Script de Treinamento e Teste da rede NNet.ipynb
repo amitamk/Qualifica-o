{
 "cells": [
  {
   "cell_type": "markdown",
   "metadata": {},
   "source": [
    "#### Este é o script usado para rodar o treinamento e o teste para a rede NNet (R)"
   ]
  },
  {
   "cell_type": "markdown",
   "metadata": {},
   "source": [
    "Definindo as bibliotecas:"
   ]
  },
  {
   "cell_type": "code",
   "execution_count": 2,
   "metadata": {},
   "outputs": [],
   "source": [
    "library(ggplot2)\n",
    "library(nnet)\n",
    "set.seed(999)"
   ]
  },
  {
   "cell_type": "markdown",
   "metadata": {},
   "source": [
    "Lendo o conjunto de dados (em formato de data frame) e normalizando as colunas:"
   ]
  },
  {
   "cell_type": "code",
   "execution_count": 3,
   "metadata": {
    "collapsed": true
   },
   "outputs": [],
   "source": [
    "redshifts <- read.csv(\"redshift_between0and1.csv\")\n",
    "#redshifts <- read.csv(\"redshift_between0and7.csv\")\n",
    "redshifts <- redshifts[c(\"u\",\"g\",\"r\",\"i\",\"z\",\"redshift\")]\n",
    "redshifts <- as.data.frame(scale(redshifts))\n",
    "npoints_train = as.integer(dim(redshifts)[1]*2/3) #definindo a quantidade de padrões de treinamento (2/3 do conjunto)"
   ]
  },
  {
   "cell_type": "markdown",
   "metadata": {},
   "source": [
    "Preparando o arquivos de saída com os erros (sigmas):"
   ]
  },
  {
   "cell_type": "code",
   "execution_count": 4,
   "metadata": {
    "collapsed": true
   },
   "outputs": [],
   "source": [
    "Sigmas <- data.frame(c(0),c(0),c(0),c(0),c(0),c(0),c(0),c(0),c(0),c(0),c(0))\n",
    "names(Sigmas)<-c(\"neurons\",\"sigma1\",\"sigma2\",\"sigma3\",\"sigma4\",\"sigma5\",\"sigma6\",\"sigma7\",\"sigma8\",\"sigma9\",\"sigma10\")"
   ]
  },
  {
   "cell_type": "markdown",
   "metadata": {},
   "source": [
    "Loop de treinamento e teste para cada quantidade de neurônios ocultos:"
   ]
  },
  {
   "cell_type": "code",
   "execution_count": null,
   "metadata": {
    "collapsed": true
   },
   "outputs": [],
   "source": [
    "for(neurons in c(5,seq(10,100,10))){\n",
    "  Sigma <- c() #inicializando o array de resultados\n",
    "\n",
    "  #Loop para realizar 10 treinamentos/testes para cada # de neurônios\n",
    "  for(i in seq(1,10)){\n",
    "    samp <- c(sample(1:npoints_train,)) #embaralhando os índices dos padroões de entrada e saída para o treinamento\n",
    "    nnet.fit <- nnet(redshift ~ ., data=redshifts, size=neurons, subset = samp, maxit = 10000) #configurando a rede NNet\n",
    "    nnet.predict <- predict(nnet.fit, redshifts[-samp,]) #realizando o teste \n",
    "    redshiftsV <- redshifts[-samp,] #armazenando o conjunto utilizado no teste\n",
    "\n",
    "    #calculando o valor de Sigma\n",
    "    Sigma[i] <- 1.48*median(abs((nnet.predict-redshiftsV$redshift) - median(nnet.predict-redshiftsV$redshift))/(1+redshiftsV$redshift))\n",
    "    \n",
    "    #redshiftsV$predicted <- nnet.predict\n",
    "    #redshiftsV$predicted <- NULL\n",
    "  }\n",
    "\n",
    "  newrow <- c(neurons,Sigma) #armazenando o sigma para a respectiva configuração de neurônios ocultos\n",
    "  Sigmas <- rbind(Sigmas,newrow) #unindo a linha aos sigmas obtidos nos demais treinamentos\n",
    "}"
   ]
  },
  {
   "cell_type": "markdown",
   "metadata": {},
   "source": [
    "Gravando os sigmas no arquivo de saída"
   ]
  },
  {
   "cell_type": "code",
   "execution_count": null,
   "metadata": {
    "collapsed": true
   },
   "outputs": [],
   "source": [
    "write.csv(Sigmas, file = \"Sigmas_nnet_between0and1.csv\")\n",
    "#write.csv(Sigmas, file = \"Sigmas_nnet_between0and7.csv\")\n",
    "\n",
    "end.rcode-->"
   ]
  }
 ],
 "metadata": {
  "kernelspec": {
   "display_name": "R",
   "language": "R",
   "name": "ir"
  },
  "language_info": {
   "codemirror_mode": "r",
   "file_extension": ".r",
   "mimetype": "text/x-r-source",
   "name": "R",
   "pygments_lexer": "r",
   "version": "3.3.2"
  }
 },
 "nbformat": 4,
 "nbformat_minor": 2
}
