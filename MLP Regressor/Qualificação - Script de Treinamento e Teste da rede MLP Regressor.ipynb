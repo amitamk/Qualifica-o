{
 "cells": [
  {
   "cell_type": "markdown",
   "metadata": {},
   "source": [
    "#### Este é o script usado para rodar o treinamento e o teste para a rede MLP Regressor, do Scikit-Learn \n",
    "Criado no Jupyter com Python 2 por Amita Muralikrishna"
   ]
  },
  {
   "cell_type": "markdown",
   "metadata": {},
   "source": [
    "Definindo os pacotes:"
   ]
  },
  {
   "cell_type": "code",
   "execution_count": 1,
   "metadata": {
    "collapsed": true
   },
   "outputs": [],
   "source": [
    "from sklearn.neural_network import MLPRegressor\n",
    "import csv\n",
    "import numpy as np\n",
    "import random as rd"
   ]
  },
  {
   "cell_type": "markdown",
   "metadata": {},
   "source": [
    "Definindo a função que calculará o valor de SigmaNMAD para os padrões de teste:"
   ]
  },
  {
   "cell_type": "code",
   "execution_count": 2,
   "metadata": {
    "collapsed": true
   },
   "outputs": [],
   "source": [
    "def sigmaNMAD(photoz, specz):\n",
    "    err = (abs((photoz - specz) - np.median(photoz - specz)))/(1+specz)\n",
    "    return 1.48*np.median(err)"
   ]
  },
  {
   "cell_type": "markdown",
   "metadata": {},
   "source": [
    "Lendo o conjunto de dados:"
   ]
  },
  {
   "cell_type": "code",
   "execution_count": 3,
   "metadata": {},
   "outputs": [],
   "source": [
    "#filename = 'redshift_between0and1.csv'\n",
    "filename = 'redshift_between0and7.csv'\n",
    "\n",
    "l = []\n",
    "\n",
    "with open(filename, 'r') as f:\n",
    "    if csv.Sniffer().has_header(f.read(2)):\n",
    "        f.readline()\n",
    "    reader = csv.reader(f, quoting=csv.QUOTE_NONNUMERIC)\n",
    "    for row in reader:\n",
    "        l.append(row)"
   ]
  },
  {
   "cell_type": "markdown",
   "metadata": {},
   "source": [
    "Abrindo um arquivo para salvar os valores de erro (sigmaNMAD) após os testes para cada configuração diferente de # de neurônios ocultos (10 configurações):"
   ]
  },
  {
   "cell_type": "code",
   "execution_count": 4,
   "metadata": {
    "collapsed": true
   },
   "outputs": [],
   "source": [
    "#f = open('Sigmas_mlp_specz0a1.csv', 'w')\n",
    "f = open('Sigmas_mlp_specz0a7.csv', 'w') #arquivo de saída com valores de erros (sigmasNMAD)\n",
    "f.writelines('Neurons,Sigma1,Sigm2,Sigma3,Sigma4,Sigma5,Sigma6,Sigma7,Sigma8,Sigma9,Sigma10\\n') #rótulos para o arquivo de saída\n",
    "\n",
    "n = [5, 10, 20, 30, 40, 50, 60, 70, 80, 90, 100] #10 diferentes quantidades de neurônios ocultos"
   ]
  },
  {
   "cell_type": "markdown",
   "metadata": {},
   "source": [
    "Loop de treinamento e teste para cada quantidade de neurônios ocultos (10 valores):"
   ]
  },
  {
   "cell_type": "code",
   "execution_count": 6,
   "metadata": {},
   "outputs": [],
   "source": [
    "for neurons in n:\n",
    "\n",
    "    l = rd.sample(np.asarray(l),len(np.asarray(l))) #embaralhando as linhas dos padrões de entrada\n",
    "    \n",
    "    npoints_train = len(l)*2/3 #definindo quantidade de padrões para o treinamento (2/3 do conjunto de dados)\n",
    " \n",
    "    X = np.asarray(l)[0:npoints_train,0:5] #separando os padrões de entrada para o treinamento\n",
    "    y = np.asarray(l)[0:npoints_train,5] #separando as saídas desejadas para o treinamento\n",
    "    \n",
    "    sigmaS = '' #inicializando a string com sigmas para o teste i\n",
    "    sigma = [] #inicializando o array sigma para o teste i\n",
    "    \n",
    "    #Loop de 10 treinamentos e testes para cada configuração de # de neurônios ocultos\n",
    "    for i in range(10):\n",
    "        hunits = (neurons,) #quantidade de neurônios ocultos para o treinamento i \n",
    "        \n",
    "        #Configurando a MLP Regressor\n",
    "        nnr = MLPRegressor(hidden_layer_sizes=hunits, activation='tanh', \n",
    "                           solver='adam', alpha=0.0001, batch_size='auto', \n",
    "                           learning_rate='constant', learning_rate_init=0.001, \n",
    "                           power_t=0.5, max_iter=1000, shuffle=True, \n",
    "                           random_state=None, tol=0.0001, verbose=False, \n",
    "                           warm_start=False, momentum=0.9, nesterovs_momentum=True, \n",
    "                           early_stopping=False, validation_fraction=0.1, \n",
    "                           beta_1=0.9, beta_2=0.999, epsilon=1e-08)\n",
    "    \n",
    "        nnr.out_activation_='relu' #definindo a função de ativação para a camada de saída\n",
    "       \n",
    "        nnr.fit(X,y) #treinando a rede\n",
    "    \n",
    "        Xq = np.asarray(l)[npoints_train:,0:5] #definindo os padrões de entrada para a fase de teste (1/3 do conjunto de dados)\n",
    "        photoz = nnr.predict(Xq) #testando a rede para o treinamento i\n",
    "        \n",
    "        Zq = np.asarray(l)[npoints_train:,5] #definindo as saídas desejadas para comparação na fase de teste\n",
    "        \n",
    "        sigma.append(sigmaNMAD(photoz, Zq)) #calculando e armazenando o sigma obtido no teste i no array sigma\n",
    "        sigmaS += ',' + str(sigma[-1]) # concatenando o último sigma calculado em uma string para gravar no arquivo de saída\n",
    "             \n",
    "    f.writelines(str(neurons)+sigmaS+'\\n')  #gravando no arquivo de saída os sigmas (obtidos nos 10 testes) e \n",
    "                                            #a qtde de neurônios ocultos\n",
    "               \n",
    "f.close() #fechando o arquivo com resultados."
   ]
  },
  {
   "cell_type": "markdown",
   "metadata": {
    "collapsed": true
   },
   "source": [
    "Fim de Script: Arquivo de saída gerado!"
   ]
  }
 ],
 "metadata": {
  "kernelspec": {
   "display_name": "Python 2",
   "language": "python",
   "name": "python2"
  },
  "language_info": {
   "codemirror_mode": {
    "name": "ipython",
    "version": 2
   },
   "file_extension": ".py",
   "mimetype": "text/x-python",
   "name": "python",
   "nbconvert_exporter": "python",
   "pygments_lexer": "ipython2",
   "version": "2.7.13"
  }
 },
 "nbformat": 4,
 "nbformat_minor": 2
}
